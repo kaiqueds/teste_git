{
 "cells": [
  {
   "cell_type": "code",
   "execution_count": 5,
   "id": "20d57c22-313c-46a9-844a-da21ce3dcb14",
   "metadata": {},
   "outputs": [
    {
     "name": "stdout",
     "output_type": "stream",
     "text": [
      "O valor da soma é igual a: 5\n"
     ]
    }
   ],
   "source": [
    "def soma(a,b):\n",
    "    a\n",
    "    b\n",
    "    x = a + b\n",
    "    return x\n",
    "\n",
    "y = soma(2,3)\n",
    "print(f'O valor da soma é igual a: {y}')"
   ]
  },
  {
   "cell_type": "code",
   "execution_count": 7,
   "id": "249bd4e9-b698-4985-875a-6fcd67669c6e",
   "metadata": {},
   "outputs": [
    {
     "name": "stdout",
     "output_type": "stream",
     "text": [
      "a subtração é igual a 2\n"
     ]
    }
   ],
   "source": [
    "def sub(a,b):\n",
    "    x = a - b\n",
    "    return x\n",
    "\n",
    "z = sub(5,3)\n",
    "\n",
    "print(f'a subtração é igual a {z}')"
   ]
  },
  {
   "cell_type": "code",
   "execution_count": 10,
   "id": "bfd20e7b-f5ad-4383-ab0b-0e9768521ca3",
   "metadata": {},
   "outputs": [
    {
     "name": "stdout",
     "output_type": "stream",
     "text": [
      "O valor da divisao e: 3.3333333333333335\n"
     ]
    }
   ],
   "source": [
    "def div(a,b):\n",
    "    x= a/b\n",
    "    return x\n",
    "\n",
    "y = div(10,3)\n",
    "\n",
    "print(f'O valor da divisao e: {y}')"
   ]
  }
 ],
 "metadata": {
  "kernelspec": {
   "display_name": "Python 3 (ipykernel)",
   "language": "python",
   "name": "python3"
  },
  "language_info": {
   "codemirror_mode": {
    "name": "ipython",
    "version": 3
   },
   "file_extension": ".py",
   "mimetype": "text/x-python",
   "name": "python",
   "nbconvert_exporter": "python",
   "pygments_lexer": "ipython3",
   "version": "3.11.4"
  }
 },
 "nbformat": 4,
 "nbformat_minor": 5
}
